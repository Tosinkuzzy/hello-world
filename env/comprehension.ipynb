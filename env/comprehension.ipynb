{
 "cells": [
  {
   "cell_type": "code",
   "execution_count": 1,
   "source": [
    "# Create a list from a range\n",
    "my_list = [i for i in range(10)]\n",
    "my_list"
   ],
   "outputs": [
    {
     "output_type": "execute_result",
     "data": {
      "text/plain": [
       "[0, 1, 2, 3, 4, 5, 6, 7, 8, 9]"
      ]
     },
     "metadata": {},
     "execution_count": 1
    }
   ],
   "metadata": {}
  },
  {
   "cell_type": "code",
   "execution_count": 2,
   "source": [
    "# Create a list from a range\n",
    "my_list = [i for i in range(10)]\n",
    "my_list\n",
    "\n",
    "# Creating a list comprehension\n",
    "my_list = []\n",
    "for i in range(10):\n",
    "    my_list.append(i)\n",
    "    my_list "
   ],
   "outputs": [],
   "metadata": {}
  },
  {
   "cell_type": "code",
   "execution_count": 3,
   "source": [
    "# Create a list from a range\n",
    "# Applying for-loop inside the list\n",
    "my_list = [i for i in range(10)]\n",
    "my_list\n",
    "\n",
    "# Creating a list comprehension\n",
    "# Applying a traditional way would have an outside for-loop\n",
    "my_list = []\n",
    "for i in range(10):\n",
    "    my_list.append(i)\n",
    "    my_list \n",
    "\n",
    "# Create a list from a list using comprehension\n",
    "another_list = [i*i for i in my_list]\n",
    "another_list"
   ],
   "outputs": [
    {
     "output_type": "execute_result",
     "data": {
      "text/plain": [
       "[0, 1, 4, 9, 16, 25, 36, 49, 64, 81]"
      ]
     },
     "metadata": {},
     "execution_count": 3
    }
   ],
   "metadata": {}
  },
  {
   "cell_type": "code",
   "execution_count": 4,
   "source": [
    "# Create a list from a range\n",
    "# Applying for-loop inside the list\n",
    "my_list = [i for i in range(10)]\n",
    "my_list\n",
    "\n",
    "# Creating a list comprehension\n",
    "# Applying a traditional way would have an outside for-loop\n",
    "my_list = []\n",
    "for i in range(10):\n",
    "    my_list.append(i)\n",
    "    my_list \n",
    "\n",
    "# Create a list from a list using comprehension\n",
    "another_list = [i*i for i in my_list]\n",
    "another_list\n",
    "\n",
    "# Traditional way\n",
    "another_list\n",
    "for i in my_list:\n",
    "    another_list.append(i*i)\n",
    "    another_list\n",
    "\n",
    "# List Comprehension with if-statement\n",
    "even_list = [i for i in my_list if i % 2 == 0]\n",
    "even_list"
   ],
   "outputs": [
    {
     "output_type": "execute_result",
     "data": {
      "text/plain": [
       "[0, 2, 4, 6, 8]"
      ]
     },
     "metadata": {},
     "execution_count": 4
    }
   ],
   "metadata": {}
  },
  {
   "cell_type": "code",
   "execution_count": 5,
   "source": [
    "# Create a list from a range\n",
    "# Applying for-loop inside the list\n",
    "my_list = [i for i in range(10)]\n",
    "my_list\n",
    "\n",
    "# Creating a list comprehension\n",
    "# Applying a traditional way would have an outside for-loop\n",
    "my_list = []\n",
    "for i in range(10):\n",
    "    my_list.append(i)\n",
    "    my_list \n",
    "\n",
    "# Create a list from a list using comprehension\n",
    "another_list = [i*i for i in my_list]\n",
    "another_list\n",
    "\n",
    "# Traditional way\n",
    "another_list\n",
    "for i in my_list:\n",
    "    another_list.append(i*i)\n",
    "    another_list\n",
    "\n",
    "# List Comprehension with if-statement\n",
    "even_list = [i for i in my_list if i % 2 == 0]\n",
    "even_list\n",
    "\n",
    "# List comprehension with else-statement\n",
    "even_list = [i if i % 2 == 0 else -i*i for i in my_list]\n",
    "even_list"
   ],
   "outputs": [
    {
     "output_type": "execute_result",
     "data": {
      "text/plain": [
       "[0, -1, 2, -9, 4, -25, 6, -49, 8, -81]"
      ]
     },
     "metadata": {},
     "execution_count": 5
    }
   ],
   "metadata": {}
  },
  {
   "cell_type": "code",
   "execution_count": 6,
   "source": [
    "# Create a list from a range\n",
    "# Applying for-loop inside the list\n",
    "my_list = [i for i in range(10)]\n",
    "my_list\n",
    "\n",
    "# Creating a list comprehension\n",
    "# Applying a traditional way would have an outside for-loop\n",
    "my_list = []\n",
    "for i in range(10):\n",
    "    my_list.append(i)\n",
    "    my_list \n",
    "\n",
    "# Create a list from a list using comprehension\n",
    "another_list = [i*i for i in my_list]\n",
    "another_list\n",
    "\n",
    "# Traditional way\n",
    "another_list\n",
    "for i in my_list:\n",
    "    another_list.append(i*i)\n",
    "    another_list\n",
    "\n",
    "# List Comprehension with if-statement\n",
    "even_list = [i for i in my_list if i % 2 == 0]\n",
    "even_list\n",
    "\n",
    "# List comprehension with else-statement\n",
    "even_list = [i if i % 2 == 0 else -i*i for i in my_list]\n",
    "even_list\n",
    "\n",
    "# Dictionary comprehension\n",
    "{i: i*i for i in my_list}"
   ],
   "outputs": [
    {
     "output_type": "execute_result",
     "data": {
      "text/plain": [
       "{0: 0, 1: 1, 2: 4, 3: 9, 4: 16, 5: 25, 6: 36, 7: 49, 8: 64, 9: 81}"
      ]
     },
     "metadata": {},
     "execution_count": 6
    }
   ],
   "metadata": {}
  }
 ],
 "nbformat": 4,
 "nbformat_minor": 2,
 "metadata": {
  "language_info": {
   "codemirror_mode": {
    "name": "ipython",
    "version": 3
   },
   "file_extension": ".py",
   "mimetype": "text/x-python",
   "name": "python",
   "nbconvert_exporter": "python",
   "pygments_lexer": "ipython3",
   "version": 3
  },
  "orig_nbformat": 4
 }
}