{
 "cells": [
  {
   "cell_type": "code",
   "execution_count": 1,
   "source": [
    ">>> PI = 3.14\n",
    ">>> PI"
   ],
   "outputs": [
    {
     "output_type": "execute_result",
     "data": {
      "text/plain": [
       "3.14"
      ]
     },
     "metadata": {},
     "execution_count": 1
    }
   ],
   "metadata": {}
  },
  {
   "cell_type": "code",
   "execution_count": 2,
   "source": [
    ">>> 1+1"
   ],
   "outputs": [
    {
     "output_type": "execute_result",
     "data": {
      "text/plain": [
       "2"
      ]
     },
     "metadata": {},
     "execution_count": 2
    }
   ],
   "metadata": {}
  },
  {
   "cell_type": "code",
   "execution_count": 5,
   "source": [
    "car = {\n",
    "    \"Brand\": \"Tesla\",\n",
    "    \"Model\": \"Elon\",\n",
    "    \"Year\": \"2023\"\n",
    "}"
   ],
   "outputs": [],
   "metadata": {}
  },
  {
   "cell_type": "code",
   "execution_count": 6,
   "source": [
    "# Using Dictionaries as Records\n",
    "car = {\n",
    "    \"Brand\": \"Tesla\",\n",
    "    \"Model\": \"Elon\",\n",
    "    \"Year\": \"2023\"\n",
    "}\n",
    "\n",
    "#Using Dictionaries as Counters\n",
    "items = ['Willow', 'latifah', 'Tosinkuzzy', 'Family']\n",
    "count = {}\n",
    "for items in items:\n",
    "    count[items] = count.get(items, 0) + 1"
   ],
   "outputs": [],
   "metadata": {}
  },
  {
   "cell_type": "code",
   "execution_count": 7,
   "source": [
    "# Using Dictionaries as Records\n",
    "my_dict = {\n",
    "    'Key 1': 'Value 1',\n",
    "    'Key 2': ' Value 2'\n",
    "}\n",
    "car = {\n",
    "    \"Brand\": \"Tesla\",\n",
    "    \"Model\": \"Elon\",\n",
    "    \"Year\": \"2023\"\n",
    "}\n",
    "\n",
    "#Using Dictionaries as Counters\n",
    "items = ['Willow', 'latifah', 'Tosinkuzzy', 'Family']\n",
    "count = {}\n",
    "for items in items:\n",
    "    count[items] = count.get(items, 0) + 1"
   ],
   "outputs": [],
   "metadata": {}
  },
  {
   "cell_type": "code",
   "execution_count": 8,
   "source": [
    "# Using Dictionaries as Records\n",
    "my_dict = {\n",
    "    'Key 1': 'Value 1',\n",
    "    'Key 2': ' Value 2'\n",
    "}\n",
    "car = {\n",
    "    \"Brand\": \"Tesla\",\n",
    "    \"Model\": \"Elon\",\n",
    "    \"Year\": \"2023\"\n",
    "}\n",
    "\n",
    "#Using Dictionaries as Counters\n",
    "items = ['Willow', 'latifah', 'Tosinkuzzy', 'Family']\n",
    "count = {}\n",
    "for items in items:\n",
    "    count[items] = count.get(items, 1) + 1"
   ],
   "outputs": [],
   "metadata": {}
  },
  {
   "cell_type": "code",
   "execution_count": 9,
   "source": [
    "# Using Dictionaries as Records\n",
    "my_dict = {\n",
    "    'Key 1': 'Value 1',\n",
    "    'Key 2': ' Value 2'\n",
    "}\n",
    "car = {\n",
    "    \"Brand\": \"Tesla\",\n",
    "    \"Model\": \"Elon\",\n",
    "    \"Year\": \"2023\"\n",
    "}\n",
    "\n",
    "#Using Dictionaries as Counters\n",
    "items = ['Willow', 'latifah', 'Tosinkuzzy', 'Family']\n",
    "count = {}\n",
    "for items in items:\n",
    "    count[items] = count.get(items, 5) + 1"
   ],
   "outputs": [],
   "metadata": {}
  },
  {
   "cell_type": "code",
   "execution_count": 10,
   "source": [
    "# Using Dictionaries as Records\n",
    "my_dict = {\n",
    "    'Key 1': 'Value 1',\n",
    "    'Key 2': ' Value 2'\n",
    "}\n",
    "car = {\n",
    "    \"Brand\": \"Tesla\",\n",
    "    \"Model\": \"Elon\",\n",
    "    \"Year\": \"2023\"\n",
    "}\n",
    "\n",
    "#Using Dictionaries as Counters\n",
    "items = ['Willow', 'latifah', 'Tosinkuzzy', 'Family']\n",
    "count = {}\n",
    "for items in items:\n",
    "    count[items] = count.get(items, 0) + 1"
   ],
   "outputs": [],
   "metadata": {}
  },
  {
   "cell_type": "code",
   "execution_count": 12,
   "source": [
    "# Using Dictionaries as Records\n",
    "my_dict = {\n",
    "    'Key 1': 'Value 1',\n",
    "    'Key 2': ' Value 2'\n",
    "}\n",
    "car = {\n",
    "    \"Brand\": \"Tesla\",\n",
    "    \"Model\": \"Elon\",\n",
    "    \"Year\": \"2023\"\n",
    "}\n",
    "\n",
    "#Using Dictionaries as Counters\n",
    "items = ['Willow', 'latifah', 'Tosinkuzzy', 'Family']\n",
    "count = {}\n",
    "for items in items:\n",
    "    count[items] = count.get(items, 0) + 1\n",
    "\n",
    "    my_dict['Key 3'] = 'Value 3'"
   ],
   "outputs": [],
   "metadata": {}
  },
  {
   "cell_type": "code",
   "execution_count": 13,
   "source": [
    "# Using Dictionaries as Records\n",
    "my_dict = {\n",
    "    'Key 1': 'Value 1',\n",
    "    'Key 2': ' Value 2'\n",
    "}\n",
    "car = {\n",
    "    \"Brand\": \"Tesla\",\n",
    "    \"Model\": \"Elon\",\n",
    "    \"Year\": \"2023\"\n",
    "}\n",
    "\n",
    "#Using Dictionaries as Counters\n",
    "items = ['Willow', 'latifah', 'Tosinkuzzy', 'Family']\n",
    "count = {'Willow': 3}\n",
    "for items in items:\n",
    "    count[items] = count.get(items, 0) + 1\n",
    "# Adding a new key and value to my Dictionaries\n",
    "    my_dict['Key 3'] = 'Value 3'"
   ],
   "outputs": [],
   "metadata": {}
  },
  {
   "cell_type": "code",
   "execution_count": 14,
   "source": [
    "# Using Dictionaries as Records\n",
    "my_dict = {\n",
    "    'Key 1': 'Value 1',\n",
    "    'Key 2': ' Value 2'\n",
    "}\n",
    "car = {\n",
    "    \"Brand\": \"Tesla\",\n",
    "    \"Model\": \"Elon\",\n",
    "    \"Year\": \"2023\"\n",
    "}\n",
    "\n",
    "#Using Dictionaries as Counters\n",
    "items = ['Willow', 'latifah', 'Tosinkuzzy', 'Family']\n",
    "count = {'Willow': 4, 'latifah': 3, 'Tosinkuzzy': 2, 'Family': 1}\n",
    "for items in items:\n",
    "    count[items] = count.get(items, 0) + 1\n",
    "# Adding a new key and value to my Dictionaries\n",
    "    my_dict['Key 3'] = 'Value 3'"
   ],
   "outputs": [],
   "metadata": {}
  },
  {
   "cell_type": "code",
   "execution_count": 17,
   "source": [
    "# Using Dictionaries as Records\n",
    "my_dict = {\n",
    "    'Key 1': 'Value 1',\n",
    "    'Key 2': ' Value 2'\n",
    "}\n",
    "car = {\n",
    "    \"Brand\": \"Tesla\",\n",
    "    \"Model\": \"Elon\",\n",
    "    \"Year\": \"2023\"\n",
    "}\n",
    "\n",
    "#Using Dictionaries as Counters\n",
    "items = ['Willow', 'latifah', 'Tosinkuzzy', 'Family']\n",
    "count = {'Willow': 4, 'latifah': 3, 'Tosinkuzzy': 2, 'Family': 1}\n",
    "for items in items:\n",
    "    count[items] = count.get(items, 0) + 1\n",
    "# Adding a new key and value to my Dictionaries\n",
    "    my_dict['Key 3'] = 'Value 3'\n",
    "\n",
    "# Iterating Over a Dictionary\n",
    "for Willow, Value in count.items():\n",
    "    print(Willow, Value)"
   ],
   "outputs": [
    {
     "output_type": "stream",
     "name": "stdout",
     "text": [
      "Willow 5\n",
      "latifah 4\n",
      "Tosinkuzzy 3\n",
      "Family 2\n"
     ]
    }
   ],
   "metadata": {}
  },
  {
   "cell_type": "code",
   "execution_count": 18,
   "source": [
    "# Using Dictionaries as Records\n",
    "my_dict = {\n",
    "    'Key 1': 'Value 1',\n",
    "    'Key 2': ' Value 2'\n",
    "}\n",
    "car = {\n",
    "    \"Brand\": \"Tesla\",\n",
    "    \"Model\": \"Elon\",\n",
    "    \"Year\": \"2023\"\n",
    "}\n",
    "\n",
    "#Using Dictionaries as Counters\n",
    "items = ['Willow', 'latifah', 'Tosinkuzzy', 'Family']\n",
    "count = {'Willow': 4, 'latifah': 3, 'Tosinkuzzy': 2, 'Family': 1}\n",
    "for items in items:\n",
    "    count[items] = count.get(items, 0)\n",
    "# Adding a new key and value to my Dictionaries\n",
    "    my_dict['Key 3'] = 'Value 3'\n",
    "\n",
    "# Iterating Over a Dictionary\n",
    "for Willow, Value in count.items():\n",
    "    print(Willow, Value)"
   ],
   "outputs": [
    {
     "output_type": "stream",
     "name": "stdout",
     "text": [
      "Willow 4\n",
      "latifah 3\n",
      "Tosinkuzzy 2\n",
      "Family 1\n"
     ]
    }
   ],
   "metadata": {}
  },
  {
   "cell_type": "code",
   "execution_count": 19,
   "source": [
    "# Using Dictionaries as Records\n",
    "my_dict = {\n",
    "    'Key 1': 'Value 1',\n",
    "    'Key 2': ' Value 2'\n",
    "}\n",
    "car = {\n",
    "    \"Brand\": \"Tesla\",\n",
    "    \"Model\": \"Elon\",\n",
    "    \"Year\": \"2023\"\n",
    "}\n",
    "\n",
    "#Using Dictionaries as Counters\n",
    "items = ['Willow', 'Oyinda', 'Tosinkuzzy', 'Family']\n",
    "count = {'Willow': 4, 'latifah': 3, 'Tosinkuzzy': 2, 'Family': 1}\n",
    "for items in items:\n",
    "    count[items] = count.get(items, 0)\n",
    "# Adding a new key and value to my Dictionaries\n",
    "    my_dict['Key 3'] = 'Value 3'\n",
    "\n",
    "# Iterating Over a Dictionary\n",
    "for Willow, Value in count.items():\n",
    "    print(Willow, Value)"
   ],
   "outputs": [
    {
     "output_type": "stream",
     "name": "stdout",
     "text": [
      "Willow 4\n",
      "latifah 3\n",
      "Tosinkuzzy 2\n",
      "Family 1\n",
      "Oyinda 0\n"
     ]
    }
   ],
   "metadata": {}
  },
  {
   "cell_type": "code",
   "execution_count": 20,
   "source": [
    "# Using Dictionaries as Records\n",
    "my_dict = {\n",
    "    'Key 1': 'Value 1',\n",
    "    'Key 2': ' Value 2'\n",
    "}\n",
    "car = {\n",
    "    \"Brand\": \"Tesla\",\n",
    "    \"Model\": \"Elon\",\n",
    "    \"Year\": \"2023\"\n",
    "}\n",
    "\n",
    "#Using Dictionaries as Counters\n",
    "items = ['Willow', 'Oyinda', 'Tosinkuzzy', 'Family']\n",
    "count = {'Willow': 4, 'latifah': 3, 'Tosinkuzzy': 2, 'Family': 1}\n",
    "for items in items:\n",
    "    count[items] = count.get(items, 0) + 1\n",
    "# Adding a new key and value to my Dictionaries\n",
    "    my_dict['Key 3'] = 'Value 3'\n",
    "\n",
    "# Iterating Over a Dictionary\n",
    "for Willow, Value in count.items():\n",
    "    print(Willow, Value)"
   ],
   "outputs": [
    {
     "output_type": "stream",
     "name": "stdout",
     "text": [
      "Willow 5\n",
      "latifah 3\n",
      "Tosinkuzzy 3\n",
      "Family 2\n",
      "Oyinda 1\n"
     ]
    }
   ],
   "metadata": {}
  },
  {
   "cell_type": "code",
   "execution_count": 21,
   "source": [
    "# Using Dictionaries as Records\n",
    "my_dict = {\n",
    "    'Key 1': 'Value 1',\n",
    "    'Key 2': ' Value 2'\n",
    "}\n",
    "car = {\n",
    "    \"Brand\": \"Tesla\",\n",
    "    \"Model\": \"Elon\",\n",
    "    \"Year\": \"2023\"\n",
    "}\n",
    "\n",
    "#Using Dictionaries as Counters\n",
    "items = ['Willow', 'Oyinda', 'Tosinkuzzy', 'Family', 'Games',]\n",
    "count = {'Willow': 4, 'latifah': 3, 'Tosinkuzzy': 2, 'Family': 1}\n",
    "for items in items:\n",
    "    count[items] = count.get(items, 0) + 1\n",
    "# Adding a new key and value to my Dictionaries\n",
    "    my_dict['Key 3'] = 'Value 3'\n",
    "\n",
    "# Iterating Over a Dictionary\n",
    "for Willow, Value in count.items():\n",
    "    print(Willow, Value)"
   ],
   "outputs": [
    {
     "output_type": "stream",
     "name": "stdout",
     "text": [
      "Willow 5\n",
      "latifah 3\n",
      "Tosinkuzzy 3\n",
      "Family 2\n",
      "Oyinda 1\n",
      "Games 1\n"
     ]
    }
   ],
   "metadata": {}
  },
  {
   "cell_type": "code",
   "execution_count": 22,
   "source": [
    "# Using Dictionaries as Records\n",
    "my_dict = {\n",
    "    'Key 1': 'Value 1',\n",
    "    'Key 2': ' Value 2'\n",
    "}\n",
    "car = {\n",
    "    \"Brand\": \"Tesla\",\n",
    "    \"Model\": \"Elon\",\n",
    "    \"Year\": \"2023\"\n",
    "}\n",
    "\n",
    "#Using Dictionaries as Counters\n",
    "items = ['Willow', 'Oyinda', 'Tosinkuzzy', 'Family', 'Games',]\n",
    "count = {'Willow': 4, 'latifah': 3, 'Tosinkuzzy': 2, 'Family': 1}\n",
    "for items in items:\n",
    "    count[items] = count.get(items, 0) + 1\n",
    "# Adding a new key and value to my Dictionaries\n",
    "    my_dict['Key 3'] = 'Value 3'\n",
    "\n",
    "# Iterating Over a Dictionary\n",
    "for Tosinkuzzy, Value in count.items():\n",
    "    print(Tosinkuzzy, Value)"
   ],
   "outputs": [
    {
     "output_type": "stream",
     "name": "stdout",
     "text": [
      "Willow 5\n",
      "latifah 3\n",
      "Tosinkuzzy 3\n",
      "Family 2\n",
      "Oyinda 1\n",
      "Games 1\n"
     ]
    }
   ],
   "metadata": {}
  },
  {
   "cell_type": "code",
   "execution_count": 23,
   "source": [
    "# Using Dictionaries as Records\n",
    "my_dict = {\n",
    "    'Key 1': 'Value 1',\n",
    "    'Key 2': ' Value 2'\n",
    "}\n",
    "car = {\n",
    "    \"Brand\": \"Tesla\",\n",
    "    \"Model\": \"Elon\",\n",
    "    \"Year\": \"2023\"\n",
    "}\n",
    "\n",
    "#Using Dictionaries as Counters\n",
    "items = ['Willow', 'Oyinda', 'Tosinkuzzy', 'Family', 'Games',]\n",
    "count = {'Willow': 4, 'latifah': 3, 'Tosinkuzzy': 2, 'Family': 1}\n",
    "for items in items:\n",
    "    count[items] = count.get(items, 0) - 1\n",
    "# Adding a new key and value to my Dictionaries\n",
    "    my_dict['Key 3'] = 'Value 3'\n",
    "\n",
    "# Iterating Over a Dictionary\n",
    "for Tosinkuzzy, Value in count.items():\n",
    "    print(Tosinkuzzy, Value)"
   ],
   "outputs": [
    {
     "output_type": "stream",
     "name": "stdout",
     "text": [
      "Willow 3\n",
      "latifah 3\n",
      "Tosinkuzzy 1\n",
      "Family 0\n",
      "Oyinda -1\n",
      "Games -1\n"
     ]
    }
   ],
   "metadata": {}
  },
  {
   "cell_type": "code",
   "execution_count": 24,
   "source": [
    "# Using Dictionaries as Records\n",
    "my_dict = {\n",
    "    'Key 1': 'Value 1',\n",
    "    'Key 2': ' Value 2'\n",
    "}\n",
    "car = {\n",
    "    \"Brand\": \"Tesla\",\n",
    "    \"Model\": \"Elon\",\n",
    "    \"Year\": \"2023\"\n",
    "}\n",
    "\n",
    "#Using Dictionaries as Counters\n",
    "items = ['Willow', 'Oyinda', 'Tosinkuzzy', 'Family', 'Games',]\n",
    "count = {'Willow': 4, 'latifah': 3, 'Tosinkuzzy': 2, 'Family': 1}\n",
    "for items in items:\n",
    "    count[items] = count.get(items, 0) * 1\n",
    "# Adding a new key and value to my Dictionaries\n",
    "    my_dict['Key 3'] = 'Value 3'\n",
    "\n",
    "# Iterating Over a Dictionary\n",
    "for Tosinkuzzy, Value in count.items():\n",
    "    print(Tosinkuzzy, Value)"
   ],
   "outputs": [
    {
     "output_type": "stream",
     "name": "stdout",
     "text": [
      "Willow 4\n",
      "latifah 3\n",
      "Tosinkuzzy 2\n",
      "Family 1\n",
      "Oyinda 0\n",
      "Games 0\n"
     ]
    }
   ],
   "metadata": {}
  },
  {
   "cell_type": "code",
   "execution_count": 25,
   "source": [
    "# Using Dictionaries as Records\n",
    "my_dict = {\n",
    "    'Key 1': 'Value 1',\n",
    "    'Key 2': ' Value 2'\n",
    "}\n",
    "car = {\n",
    "    \"Brand\": \"Tesla\",\n",
    "    \"Model\": \"Elon\",\n",
    "    \"Year\": \"2023\"\n",
    "}\n",
    "\n",
    "#Using Dictionaries as Counters\n",
    "items = ['Willow', 'Oyinda', 'Tosinkuzzy', 'Family', 'Games',]\n",
    "count = {'Willow': 4, 'latifah': 3, 'Tosinkuzzy': 2, 'Family': 1}\n",
    "for items in items:\n",
    "    count[items] = count.get(items, 0) / 1\n",
    "# Adding a new key and value to my Dictionaries\n",
    "    my_dict['Key 3'] = 'Value 3'\n",
    "\n",
    "# Iterating Over a Dictionary\n",
    "for Tosinkuzzy, Value in count.items():\n",
    "    print(Tosinkuzzy, Value)"
   ],
   "outputs": [
    {
     "output_type": "stream",
     "name": "stdout",
     "text": [
      "Willow 4.0\n",
      "latifah 3\n",
      "Tosinkuzzy 2.0\n",
      "Family 1.0\n",
      "Oyinda 0.0\n",
      "Games 0.0\n"
     ]
    }
   ],
   "metadata": {}
  },
  {
   "cell_type": "code",
   "execution_count": 26,
   "source": [
    "# Using Dictionaries as Records\n",
    "my_dict = {\n",
    "    'Key 1': 'Value 1',\n",
    "    'Key 2': ' Value 2'\n",
    "}\n",
    "car = {\n",
    "    \"Brand\": \"Tesla\",\n",
    "    \"Model\": \"Elon\",\n",
    "    \"Year\": \"2023\"\n",
    "}\n",
    "\n",
    "#Using Dictionaries as Counters\n",
    "items = ['Willow', 'Oyinda', 'Tosinkuzzy', 'Family', 'Games',]\n",
    "count = {'Willow': 4, 'latifah': 3, 'Tosinkuzzy': 2, 'Family': 1}\n",
    "for items in items:\n",
    "    count[items] = count.get(items, 0) + 1\n",
    "# Adding a new key and value to my Dictionaries\n",
    "    my_dict['Key 3'] = 'Value 3'\n",
    "\n",
    "# Iterating Over a Dictionary\n",
    "for Tosinkuzzy, Value in count.items():\n",
    "    print(Tosinkuzzy, Value)"
   ],
   "outputs": [
    {
     "output_type": "stream",
     "name": "stdout",
     "text": [
      "Willow 5\n",
      "latifah 3\n",
      "Tosinkuzzy 3\n",
      "Family 2\n",
      "Oyinda 1\n",
      "Games 1\n"
     ]
    }
   ],
   "metadata": {}
  }
 ],
 "nbformat": 4,
 "nbformat_minor": 2,
 "metadata": {
  "language_info": {
   "codemirror_mode": {
    "name": "ipython",
    "version": 3
   },
   "file_extension": ".py",
   "mimetype": "text/x-python",
   "name": "python",
   "nbconvert_exporter": "python",
   "pygments_lexer": "ipython3",
   "version": 3
  },
  "orig_nbformat": 4
 }
}