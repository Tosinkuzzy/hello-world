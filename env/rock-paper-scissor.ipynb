{
 "cells": [
  {
   "cell_type": "code",
   "execution_count": 3,
   "source": [
    "class Participant:\n",
    "    def __init__(self, name):\n",
    "        self.name = name\n",
    "        self.points = 0\n",
    "        self.choice = \"\"\n",
    "    def choose(self):\n",
    "\n",
    "        self.choice = input(\"{name}, select rock, paper or scissor: \".format(name=self.name))\n",
    "        print(\"{name} selects {choice}\".format(name=self.name, choice=self.choice))\n",
    "\n",
    "class GameRound:\n",
    "    def __init__(self, p1, p2):\n",
    "        p1.choose()\n",
    "        p2.choose()\n",
    "    def compareChoices(self):\n",
    "        print(\"implement\")\n",
    "    def awardPoints(self):\n",
    "        print(\"implement\")\n",
    "\n",
    "class Game:\n",
    "    def __init__(self):\n",
    "        self.endGame = False\n",
    "        self.participant = Participant(\"Spock\")\n",
    "        self.secondParticipant = Participant(\"Kirk\")\n",
    "    def start(self):\n",
    "        game_round = GameRound(self.participant, self.secondParticipant)\n",
    "    def checkEndCondition(self):\n",
    "        print(\"implement\")\n",
    "    def determineWinner(self):\n",
    "        print(\"implement\")\n",
    "\n",
    "game = Game()\n",
    "game.start()"
   ],
   "outputs": [
    {
     "output_type": "stream",
     "name": "stdout",
     "text": [
      "Spock selects rock\n",
      "Kirk selects paper\n"
     ]
    }
   ],
   "metadata": {}
  }
 ],
 "nbformat": 4,
 "nbformat_minor": 2,
 "metadata": {
  "language_info": {
   "codemirror_mode": {
    "name": "ipython",
    "version": 3
   },
   "file_extension": ".py",
   "mimetype": "text/x-python",
   "name": "python",
   "nbconvert_exporter": "python",
   "pygments_lexer": "ipython3",
   "version": 3
  },
  "orig_nbformat": 4
 }
}