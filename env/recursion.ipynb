{
 "cells": [
  {
   "cell_type": "code",
   "execution_count": 9,
   "source": [
    "def count(n):\n",
    "    return n + count(n - 1)"
   ],
   "outputs": [],
   "metadata": {}
  },
  {
   "cell_type": "code",
   "execution_count": 10,
   "source": [
    "def count(n):\n",
    "    if n == 0:\n",
    "        return 0\n",
    "    return n + count(n - 1)"
   ],
   "outputs": [],
   "metadata": {}
  },
  {
   "cell_type": "code",
   "execution_count": 11,
   "source": [
    "def count(n):\n",
    "    if n == 0:\n",
    "        count(6)\n",
    "        return 0\n",
    "    return n + count(n - 1)"
   ],
   "outputs": [],
   "metadata": {}
  },
  {
   "cell_type": "code",
   "execution_count": 12,
   "source": [
    "def count(n):\n",
    "    count(6)\n",
    "    if n == 0:\n",
    "        return 0\n",
    "    return n + count(n - 1)"
   ],
   "outputs": [],
   "metadata": {}
  },
  {
   "cell_type": "code",
   "execution_count": 13,
   "source": [
    "def count(n):\n",
    "    return n + count(n - 1)\n",
    "\n",
    "def count(n):\n",
    "    if n == 0:\n",
    "        return 0\n",
    "    return n + count(n - 1)\n",
    "count(6)"
   ],
   "outputs": [
    {
     "output_type": "execute_result",
     "data": {
      "text/plain": [
       "21"
      ]
     },
     "metadata": {},
     "execution_count": 13
    }
   ],
   "metadata": {}
  },
  {
   "cell_type": "code",
   "execution_count": 14,
   "source": [
    "# The First rule of recursion\n",
    "def count(n):\n",
    "    return n + count(n - 1)\n",
    "# Base case which will not call itself anymore\n",
    "def count(n):\n",
    "    if n == 0:\n",
    "        return 0\n",
    "    return n + count(n - 1)\n",
    "# we call it\n",
    "count(6)"
   ],
   "outputs": [
    {
     "output_type": "execute_result",
     "data": {
      "text/plain": [
       "21"
      ]
     },
     "metadata": {},
     "execution_count": 14
    }
   ],
   "metadata": {}
  }
 ],
 "nbformat": 4,
 "nbformat_minor": 2,
 "metadata": {
  "language_info": {
   "codemirror_mode": {
    "name": "ipython",
    "version": 3
   },
   "file_extension": ".py",
   "mimetype": "text/x-python",
   "name": "python",
   "nbconvert_exporter": "python",
   "pygments_lexer": "ipython3",
   "version": 3
  },
  "orig_nbformat": 4
 }
}