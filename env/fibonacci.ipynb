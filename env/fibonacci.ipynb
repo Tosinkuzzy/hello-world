{
 "cells": [
  {
   "cell_type": "code",
   "execution_count": 1,
   "source": [
    "# Defining base case\n",
    "f0 = 0\n",
    "f1 = 1\n",
    "# Then we calculate\n",
    "f2 = f1 + f0"
   ],
   "outputs": [],
   "metadata": {}
  },
  {
   "cell_type": "code",
   "execution_count": 2,
   "source": [
    "# Defining base case\n",
    "f0 = 0\n",
    "f1 = 1\n",
    "# Then we calculate\n",
    "f2 = f1 + f0\n",
    "f2"
   ],
   "outputs": [
    {
     "output_type": "execute_result",
     "data": {
      "text/plain": [
       "1"
      ]
     },
     "metadata": {},
     "execution_count": 2
    }
   ],
   "metadata": {}
  },
  {
   "cell_type": "code",
   "execution_count": 3,
   "source": [
    "# Defining base case\n",
    "f0 = 0\n",
    "f1 = 10\n",
    "# Then we calculate\n",
    "f2 = f1 + f0\n",
    "f2"
   ],
   "outputs": [
    {
     "output_type": "execute_result",
     "data": {
      "text/plain": [
       "10"
      ]
     },
     "metadata": {},
     "execution_count": 3
    }
   ],
   "metadata": {}
  },
  {
   "cell_type": "code",
   "execution_count": 4,
   "source": [
    "# Defining base case\n",
    "f0 = 8\n",
    "f1 = 10\n",
    "# Then we calculate\n",
    "f2 = f1 + f0\n",
    "f2"
   ],
   "outputs": [
    {
     "output_type": "execute_result",
     "data": {
      "text/plain": [
       "18"
      ]
     },
     "metadata": {},
     "execution_count": 4
    }
   ],
   "metadata": {}
  },
  {
   "cell_type": "code",
   "execution_count": 5,
   "source": [
    "# Defining base case\n",
    "f0 = 8\n",
    "f1 = 10\n",
    "# Then we calculate\n",
    "f2 = f1 * f0\n",
    "f2"
   ],
   "outputs": [
    {
     "output_type": "execute_result",
     "data": {
      "text/plain": [
       "80"
      ]
     },
     "metadata": {},
     "execution_count": 5
    }
   ],
   "metadata": {}
  },
  {
   "cell_type": "code",
   "execution_count": 6,
   "source": [
    "# Defining base case\n",
    "f0 = 0\n",
    "f1 = 1\n",
    "# Then we calculate\n",
    "f2 = f1 + f0\n",
    "f2\n",
    "f3 = f2 + f1\n",
    "f3"
   ],
   "outputs": [
    {
     "output_type": "execute_result",
     "data": {
      "text/plain": [
       "2"
      ]
     },
     "metadata": {},
     "execution_count": 6
    }
   ],
   "metadata": {}
  },
  {
   "cell_type": "code",
   "execution_count": 7,
   "source": [
    "# Defining base case\n",
    "f0 = 0\n",
    "f1 = 1\n",
    "# Then we calculate\n",
    "f2 = f1 + f0\n",
    "f2\n",
    "f3 = f2 + f1\n",
    "f3\n",
    "f4 = f3 + f2\n",
    "f4"
   ],
   "outputs": [
    {
     "output_type": "execute_result",
     "data": {
      "text/plain": [
       "3"
      ]
     },
     "metadata": {},
     "execution_count": 7
    }
   ],
   "metadata": {}
  },
  {
   "cell_type": "code",
   "execution_count": 9,
   "source": [
    "# Defining base case\n",
    "f0 = 0\n",
    "f1 = 1\n",
    "# Then we calculate\n",
    "f2 = f1 + f0\n",
    "f2\n",
    "f3 = f2 + f1\n",
    "f3\n",
    "f4 = f3 + f2\n",
    "f4\n",
    "# Principles of recursion\n",
    "def fib(n):\n",
    "    if n < 2:\n",
    "        return n\n",
    "    return fib(n - 1) + fib(n - 2)\n",
    "# count\n",
    "fib(5)"
   ],
   "outputs": [
    {
     "output_type": "execute_result",
     "data": {
      "text/plain": [
       "5"
      ]
     },
     "metadata": {},
     "execution_count": 9
    }
   ],
   "metadata": {}
  },
  {
   "cell_type": "code",
   "execution_count": 10,
   "source": [
    "# Defining base case\n",
    "f0 = 0\n",
    "f1 = 1\n",
    "# Then we calculate\n",
    "f2 = f1 + f0\n",
    "f2\n",
    "f3 = f2 + f1\n",
    "f3\n",
    "f4 = f3 + f2\n",
    "f4\n",
    "# Principles of recursion\n",
    "def fib(n):\n",
    "    if n < 2:\n",
    "        return n\n",
    "    return fib(n - 1) + fib(n - 2)\n",
    "# count\n",
    "fib(5)\n",
    "fib(6)"
   ],
   "outputs": [
    {
     "output_type": "execute_result",
     "data": {
      "text/plain": [
       "8"
      ]
     },
     "metadata": {},
     "execution_count": 10
    }
   ],
   "metadata": {}
  },
  {
   "cell_type": "code",
   "execution_count": 11,
   "source": [
    "# Defining base case\n",
    "f0 = 0\n",
    "f1 = 1\n",
    "# Then we calculate\n",
    "f2 = f1 + f0\n",
    "f2\n",
    "f3 = f2 + f1\n",
    "f3\n",
    "f4 = f3 + f2\n",
    "f4\n",
    "# Principles of recursion\n",
    "def fib(n):\n",
    "    if n < 2:\n",
    "        return n\n",
    "    return fib(n - 1) + fib(n - 2)\n",
    "# count\n",
    "fib(5)\n",
    "fib(6)\n",
    "fib(10)"
   ],
   "outputs": [
    {
     "output_type": "execute_result",
     "data": {
      "text/plain": [
       "55"
      ]
     },
     "metadata": {},
     "execution_count": 11
    }
   ],
   "metadata": {}
  }
 ],
 "nbformat": 4,
 "nbformat_minor": 2,
 "metadata": {
  "language_info": {
   "codemirror_mode": {
    "name": "ipython",
    "version": 3
   },
   "file_extension": ".py",
   "mimetype": "text/x-python",
   "name": "python",
   "nbconvert_exporter": "python",
   "pygments_lexer": "ipython3",
   "version": 3
  },
  "orig_nbformat": 4
 }
}